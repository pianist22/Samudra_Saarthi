{
 "cells": [
  {
   "cell_type": "code",
   "execution_count": 1,
   "id": "096dc3cb",
   "metadata": {},
   "outputs": [
    {
     "name": "stdout",
     "output_type": "stream",
     "text": [
      "CSV files generated successfully!\n"
     ]
    }
   ],
   "source": [
    "import json\n",
    "import pandas as pd\n",
    "\n",
    "# Load the JSON files\n",
    "with open('storm_surge_latest.json') as storm_file:\n",
    "    storm_surge_data = json.load(storm_file)\n",
    "\n",
    "with open('swell_surge_alerts.json') as swell_file:\n",
    "    swell_surge_data = json.load(swell_file)\n",
    "\n",
    "# Convert storm surge data to DataFrame\n",
    "storm_surge_df = pd.json_normalize(storm_surge_data)\n",
    "\n",
    "# Convert swell surge data to DataFrame\n",
    "swell_surge_df = pd.json_normalize(swell_surge_data)\n",
    "\n",
    "# Save both to CSV files\n",
    "storm_surge_df.to_csv('storm_surge_latest.csv', index=False)\n",
    "swell_surge_df.to_csv('swell_surge_alerts.csv', index=False)\n",
    "\n",
    "print(\"CSV files generated successfully!\")"
   ]
  },
  {
   "cell_type": "code",
   "execution_count": null,
   "id": "b09b78f2",
   "metadata": {},
   "outputs": [],
   "source": []
  }
 ],
 "metadata": {
  "kernelspec": {
   "display_name": "Python 3 (ipykernel)",
   "language": "python",
   "name": "python3"
  },
  "language_info": {
   "codemirror_mode": {
    "name": "ipython",
    "version": 3
   },
   "file_extension": ".py",
   "mimetype": "text/x-python",
   "name": "python",
   "nbconvert_exporter": "python",
   "pygments_lexer": "ipython3",
   "version": "3.11.5"
  }
 },
 "nbformat": 4,
 "nbformat_minor": 5
}
