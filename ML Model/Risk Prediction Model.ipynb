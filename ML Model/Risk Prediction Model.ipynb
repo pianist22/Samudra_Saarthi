{
 "cells": [
  {
   "cell_type": "code",
   "execution_count": 2,
   "id": "0aad3546",
   "metadata": {},
   "outputs": [],
   "source": [
    "import pandas as pd\n",
    "import matplotlib.pyplot as plt"
   ]
  },
  {
   "cell_type": "code",
   "execution_count": 3,
   "id": "81fd4e42",
   "metadata": {},
   "outputs": [],
   "source": [
    "import warnings\n",
    "warnings.filterwarnings('ignore', category=UserWarning)"
   ]
  },
  {
   "cell_type": "code",
   "execution_count": 4,
   "id": "f4f299d9",
   "metadata": {},
   "outputs": [],
   "source": [
    "weights = {\n",
    "    'tmax': 0.001,\n",
    "    'prcp': 0.019,\n",
    "    'wspd': 0.007,\n",
    "    'pres': 0.008,\n",
    "    'Footfall': 0.15,  # High importance\n",
    "    'Wave Height (m)': 0.08,\n",
    "    'Ocean Currents (m/s)': 0.06,\n",
    "    'Swell Height (m)': 0.05,\n",
    "    'Storm Surge': 0.28, # High importance\n",
    "    'Tsunami Alerts': 0.32, # High importance\n",
    "    'Humidity (%)': 0.01,\n",
    "    'UV Index': 0.015\n",
    "}"
   ]
  },
  {
   "cell_type": "code",
   "execution_count": 5,
   "id": "6446535d",
   "metadata": {},
   "outputs": [
    {
     "data": {
      "text/plain": [
       "1.0"
      ]
     },
     "execution_count": 5,
     "metadata": {},
     "output_type": "execute_result"
    }
   ],
   "source": [
    "total_weight = sum(weights.values())\n",
    "total_weight"
   ]
  },
  {
   "cell_type": "code",
   "execution_count": 6,
   "id": "9b7686ad",
   "metadata": {},
   "outputs": [],
   "source": [
    "df = pd.read_csv('normalized_data.csv')"
   ]
  },
  {
   "cell_type": "code",
   "execution_count": 7,
   "id": "af190d2f",
   "metadata": {},
   "outputs": [],
   "source": [
    "# Calculate Risk Score\n",
    "def calculate_risk_score(row):\n",
    "    score = 0\n",
    "    for column, weight in weights.items():\n",
    "        if column in row:\n",
    "            score += row[column] * weight\n",
    "    return score"
   ]
  },
  {
   "cell_type": "code",
   "execution_count": 8,
   "id": "9c28eaea",
   "metadata": {},
   "outputs": [],
   "source": [
    "df['Risk Score'] = df.apply(calculate_risk_score, axis=1)\n",
    "# Apply the function to each row"
   ]
  },
  {
   "cell_type": "code",
   "execution_count": 9,
   "id": "8d18d1cb",
   "metadata": {},
   "outputs": [
    {
     "data": {
      "text/html": [
       "<div>\n",
       "<style scoped>\n",
       "    .dataframe tbody tr th:only-of-type {\n",
       "        vertical-align: middle;\n",
       "    }\n",
       "\n",
       "    .dataframe tbody tr th {\n",
       "        vertical-align: top;\n",
       "    }\n",
       "\n",
       "    .dataframe thead th {\n",
       "        text-align: right;\n",
       "    }\n",
       "</style>\n",
       "<table border=\"1\" class=\"dataframe\">\n",
       "  <thead>\n",
       "    <tr style=\"text-align: right;\">\n",
       "      <th></th>\n",
       "      <th>Beach Name</th>\n",
       "      <th>Month</th>\n",
       "      <th>Year</th>\n",
       "      <th>tavg</th>\n",
       "      <th>tmin</th>\n",
       "      <th>tmax</th>\n",
       "      <th>prcp</th>\n",
       "      <th>wdir</th>\n",
       "      <th>wspd</th>\n",
       "      <th>pres</th>\n",
       "      <th>Footfall</th>\n",
       "      <th>Wave Height (m)</th>\n",
       "      <th>Ocean Currents (m/s)</th>\n",
       "      <th>Swell Height (m)</th>\n",
       "      <th>Storm Surge</th>\n",
       "      <th>Tsunami Alerts</th>\n",
       "      <th>Humidity (%)</th>\n",
       "      <th>UV Index</th>\n",
       "      <th>Risk Score</th>\n",
       "    </tr>\n",
       "  </thead>\n",
       "  <tbody>\n",
       "    <tr>\n",
       "      <th>0</th>\n",
       "      <td>Agonda Beach</td>\n",
       "      <td>Jan</td>\n",
       "      <td>2022.0</td>\n",
       "      <td>0.651992</td>\n",
       "      <td>0.485564</td>\n",
       "      <td>0.722802</td>\n",
       "      <td>0.000060</td>\n",
       "      <td>0.521533</td>\n",
       "      <td>0.295551</td>\n",
       "      <td>0.771291</td>\n",
       "      <td>0.727273</td>\n",
       "      <td>0.076471</td>\n",
       "      <td>0.117647</td>\n",
       "      <td>0.453333</td>\n",
       "      <td>0.0</td>\n",
       "      <td>1.0</td>\n",
       "      <td>0.655429</td>\n",
       "      <td>0.487143</td>\n",
       "      <td>0.487759</td>\n",
       "    </tr>\n",
       "    <tr>\n",
       "      <th>1</th>\n",
       "      <td>Agonda Beach</td>\n",
       "      <td>Feb</td>\n",
       "      <td>2022.0</td>\n",
       "      <td>0.710692</td>\n",
       "      <td>0.475722</td>\n",
       "      <td>0.757079</td>\n",
       "      <td>0.000000</td>\n",
       "      <td>0.716884</td>\n",
       "      <td>0.276483</td>\n",
       "      <td>0.677198</td>\n",
       "      <td>0.636364</td>\n",
       "      <td>0.482353</td>\n",
       "      <td>0.264706</td>\n",
       "      <td>0.186667</td>\n",
       "      <td>0.0</td>\n",
       "      <td>0.0</td>\n",
       "      <td>0.251714</td>\n",
       "      <td>0.690000</td>\n",
       "      <td>0.180236</td>\n",
       "    </tr>\n",
       "    <tr>\n",
       "      <th>2</th>\n",
       "      <td>Agonda Beach</td>\n",
       "      <td>Mar</td>\n",
       "      <td>2022.0</td>\n",
       "      <td>0.829490</td>\n",
       "      <td>0.752625</td>\n",
       "      <td>0.862891</td>\n",
       "      <td>0.001094</td>\n",
       "      <td>0.548413</td>\n",
       "      <td>0.217867</td>\n",
       "      <td>0.577610</td>\n",
       "      <td>0.363636</td>\n",
       "      <td>0.111765</td>\n",
       "      <td>1.000000</td>\n",
       "      <td>0.540000</td>\n",
       "      <td>1.0</td>\n",
       "      <td>0.0</td>\n",
       "      <td>0.273429</td>\n",
       "      <td>0.617143</td>\n",
       "      <td>0.449508</td>\n",
       "    </tr>\n",
       "    <tr>\n",
       "      <th>3</th>\n",
       "      <td>Agonda Beach</td>\n",
       "      <td>Apr</td>\n",
       "      <td>2022.0</td>\n",
       "      <td>1.000000</td>\n",
       "      <td>0.843176</td>\n",
       "      <td>0.915052</td>\n",
       "      <td>0.016852</td>\n",
       "      <td>0.856843</td>\n",
       "      <td>0.235876</td>\n",
       "      <td>0.535027</td>\n",
       "      <td>0.272727</td>\n",
       "      <td>0.564706</td>\n",
       "      <td>0.470588</td>\n",
       "      <td>0.740000</td>\n",
       "      <td>1.0</td>\n",
       "      <td>0.0</td>\n",
       "      <td>0.552286</td>\n",
       "      <td>0.401429</td>\n",
       "      <td>0.450032</td>\n",
       "    </tr>\n",
       "    <tr>\n",
       "      <th>4</th>\n",
       "      <td>Agonda Beach</td>\n",
       "      <td>May</td>\n",
       "      <td>2022.0</td>\n",
       "      <td>0.946191</td>\n",
       "      <td>0.887139</td>\n",
       "      <td>0.837556</td>\n",
       "      <td>0.086588</td>\n",
       "      <td>0.928721</td>\n",
       "      <td>0.442444</td>\n",
       "      <td>0.393544</td>\n",
       "      <td>0.272727</td>\n",
       "      <td>0.152941</td>\n",
       "      <td>0.448529</td>\n",
       "      <td>0.453333</td>\n",
       "      <td>0.0</td>\n",
       "      <td>0.0</td>\n",
       "      <td>0.197143</td>\n",
       "      <td>0.297143</td>\n",
       "      <td>0.117880</td>\n",
       "    </tr>\n",
       "  </tbody>\n",
       "</table>\n",
       "</div>"
      ],
      "text/plain": [
       "     Beach Name Month    Year      tavg      tmin      tmax      prcp  \\\n",
       "0  Agonda Beach   Jan  2022.0  0.651992  0.485564  0.722802  0.000060   \n",
       "1  Agonda Beach   Feb  2022.0  0.710692  0.475722  0.757079  0.000000   \n",
       "2  Agonda Beach   Mar  2022.0  0.829490  0.752625  0.862891  0.001094   \n",
       "3  Agonda Beach   Apr  2022.0  1.000000  0.843176  0.915052  0.016852   \n",
       "4  Agonda Beach   May  2022.0  0.946191  0.887139  0.837556  0.086588   \n",
       "\n",
       "       wdir      wspd      pres  Footfall  Wave Height (m)  \\\n",
       "0  0.521533  0.295551  0.771291  0.727273         0.076471   \n",
       "1  0.716884  0.276483  0.677198  0.636364         0.482353   \n",
       "2  0.548413  0.217867  0.577610  0.363636         0.111765   \n",
       "3  0.856843  0.235876  0.535027  0.272727         0.564706   \n",
       "4  0.928721  0.442444  0.393544  0.272727         0.152941   \n",
       "\n",
       "   Ocean Currents (m/s)  Swell Height (m)  Storm Surge  Tsunami Alerts  \\\n",
       "0              0.117647          0.453333          0.0             1.0   \n",
       "1              0.264706          0.186667          0.0             0.0   \n",
       "2              1.000000          0.540000          1.0             0.0   \n",
       "3              0.470588          0.740000          1.0             0.0   \n",
       "4              0.448529          0.453333          0.0             0.0   \n",
       "\n",
       "   Humidity (%)  UV Index  Risk Score  \n",
       "0      0.655429  0.487143    0.487759  \n",
       "1      0.251714  0.690000    0.180236  \n",
       "2      0.273429  0.617143    0.449508  \n",
       "3      0.552286  0.401429    0.450032  \n",
       "4      0.197143  0.297143    0.117880  "
      ]
     },
     "execution_count": 9,
     "metadata": {},
     "output_type": "execute_result"
    }
   ],
   "source": [
    "df.head()"
   ]
  },
  {
   "cell_type": "code",
   "execution_count": 10,
   "id": "949d6278",
   "metadata": {},
   "outputs": [
    {
     "data": {
      "image/png": "[encoded data removed]",
      "text/plain": [
       "<Figure size 1200x600 with 1 Axes>"
      ]
     },
     "metadata": {},
     "output_type": "display_data"
    }
   ],
   "source": [
    "plt.figure(figsize=(12, 6))\n",
    "plt.plot(df.index, df['Risk Score'], marker='o', linestyle='-', color='b')\n",
    "plt.xlabel('Index')\n",
    "plt.ylabel('Risk Score')\n",
    "plt.title('Risk Score of Beaches')\n",
    "plt.grid(True)\n",
    "plt.show()"
   ]
  },
  {
   "cell_type": "code",
   "execution_count": 11,
   "id": "60d8402d",
   "metadata": {},
   "outputs": [
    {
     "name": "stdout",
     "output_type": "stream",
     "text": [
      "Range (0.0843, 0.238]: Min = 0.09, Max = 0.23\n",
      "Range (0.389, 0.541]: Min = 0.40, Max = 0.54\n",
      "Range (0.692, 0.844]: Min = 0.69, Max = 0.84\n",
      "Range (0.238, 0.389]: Min = 0.24, Max = 0.38\n",
      "Range (0.541, 0.692]: Min = 0.56, Max = 0.67\n"
     ]
    }
   ],
   "source": [
    "# Define the number of bins\n",
    "num_bins = 5  # Adjust as needed\n",
    "bin_edges = pd.cut(df['Risk Score'], bins=num_bins, include_lowest=True)\n",
    "\n",
    "# Get the range for each bin\n",
    "bin_ranges = bin_edges.value_counts().index.tolist()\n",
    "\n",
    "# Calculate the min and max for each bin\n",
    "bin_summary = {}\n",
    "for bin_range in bin_ranges:\n",
    "    bin_df = df[(df['Risk Score'] >= bin_range.left) & (df['Risk Score'] < bin_range.right)]\n",
    "    min_value = bin_df['Risk Score'].min()\n",
    "    max_value = bin_df['Risk Score'].max()\n",
    "    bin_summary[bin_range] = (min_value, max_value)\n",
    "\n",
    "# Print the summary\n",
    "for bin_range, (min_val, max_val) in bin_summary.items():\n",
    "    print(f\"Range {bin_range}: Min = {min_val:.2f}, Max = {max_val:.2f}\")"
   ]
  },
  {
   "cell_type": "code",
   "execution_count": 12,
   "id": "65706650",
   "metadata": {},
   "outputs": [
    {
     "name": "stdout",
     "output_type": "stream",
     "text": [
      "Range 0-0.333: 204 values\n",
      "Range 0.333-0.666: 68 values\n",
      "Range 0.666-1: 40 values\n"
     ]
    }
   ],
   "source": [
    "ranges = [(0, 0.333), (0.333, 0.666), (0.666, 1)]\n",
    "\n",
    "# Count values in each range\n",
    "range_counts = {}\n",
    "for lower, upper in ranges:\n",
    "    count = df[(df['Risk Score'] >= lower) & (df['Risk Score'] < upper)].shape[0]\n",
    "    range_counts[f\"{lower}-{upper}\"] = count\n",
    "\n",
    "# Print the summary\n",
    "for range_str, count in range_counts.items():\n",
    "    print(f\"Range {range_str}: {count} values\")"
   ]
  },
  {
   "cell_type": "code",
   "execution_count": 13,
   "id": "129ef77e",
   "metadata": {},
   "outputs": [
    {
     "data": {
      "image/png": "[encoded data removed]",
      "text/plain": [
       "<Figure size 1000x600 with 1 Axes>"
      ]
     },
     "metadata": {},
     "output_type": "display_data"
    }
   ],
   "source": [
    "ranges = [(0, 0.333), (0.333, 0.666), (0.666, 1)]\n",
    "\n",
    "# Count values in each range\n",
    "range_counts = {}\n",
    "for lower, upper in ranges:\n",
    "    count = df[(df['Risk Score'] >= lower) & (df['Risk Score'] < upper)].shape[0]\n",
    "    range_counts[f\"{lower}-{upper}\"] = count\n",
    "\n",
    "# Plot the bar graph\n",
    "colors = ['green', 'yellow', 'red']\n",
    "labels = ['Low', 'Medium', 'High']\n",
    "\n",
    "plt.figure(figsize=(10, 6))\n",
    "bars = plt.bar(range(len(range_counts)), range_counts.values(), color=colors)\n",
    "\n",
    "# Set labels and titles\n",
    "plt.xlabel('Risk Score Range')\n",
    "plt.ylabel('Number of Values')\n",
    "plt.title('Risk Score Distribution')\n",
    "plt.xticks(range(len(range_counts)), range_counts.keys())\n",
    "\n",
    "# Add labels to bars\n",
    "for bar, label in zip(bars, labels):\n",
    "    yval = bar.get_height()\n",
    "    plt.text(bar.get_x() + bar.get_width()/2, yval, label, va='bottom', ha='center', color='black')\n",
    "\n",
    "plt.grid(True)\n",
    "plt.show()"
   ]
  },
  {
   "cell_type": "code",
   "execution_count": 14,
   "id": "c3be58f3",
   "metadata": {},
   "outputs": [],
   "source": [
    "df['Risk'] = pd.cut(df['Risk Score'], bins=[0, 0.27, 0.55, 1], labels=['Low', 'Medium', 'High'], include_lowest=True)"
   ]
  },
  {
   "cell_type": "code",
   "execution_count": 15,
   "id": "c129ee8d",
   "metadata": {},
   "outputs": [
    {
     "data": {
      "text/html": [
       "<div>\n",
       "<style scoped>\n",
       "    .dataframe tbody tr th:only-of-type {\n",
       "        vertical-align: middle;\n",
       "    }\n",
       "\n",
       "    .dataframe tbody tr th {\n",
       "        vertical-align: top;\n",
       "    }\n",
       "\n",
       "    .dataframe thead th {\n",
       "        text-align: right;\n",
       "    }\n",
       "</style>\n",
       "<table border=\"1\" class=\"dataframe\">\n",
       "  <thead>\n",
       "    <tr style=\"text-align: right;\">\n",
       "      <th></th>\n",
       "      <th>Beach Name</th>\n",
       "      <th>Month</th>\n",
       "      <th>Year</th>\n",
       "      <th>tavg</th>\n",
       "      <th>tmin</th>\n",
       "      <th>tmax</th>\n",
       "      <th>prcp</th>\n",
       "      <th>wdir</th>\n",
       "      <th>wspd</th>\n",
       "      <th>pres</th>\n",
       "      <th>Footfall</th>\n",
       "      <th>Wave Height (m)</th>\n",
       "      <th>Ocean Currents (m/s)</th>\n",
       "      <th>Swell Height (m)</th>\n",
       "      <th>Storm Surge</th>\n",
       "      <th>Tsunami Alerts</th>\n",
       "      <th>Humidity (%)</th>\n",
       "      <th>UV Index</th>\n",
       "      <th>Risk Score</th>\n",
       "      <th>Risk</th>\n",
       "    </tr>\n",
       "  </thead>\n",
       "  <tbody>\n",
       "    <tr>\n",
       "      <th>0</th>\n",
       "      <td>Agonda Beach</td>\n",
       "      <td>Jan</td>\n",
       "      <td>2022.0</td>\n",
       "      <td>0.651992</td>\n",
       "      <td>0.485564</td>\n",
       "      <td>0.722802</td>\n",
       "      <td>0.000060</td>\n",
       "      <td>0.521533</td>\n",
       "      <td>0.295551</td>\n",
       "      <td>0.771291</td>\n",
       "      <td>0.727273</td>\n",
       "      <td>0.076471</td>\n",
       "      <td>0.117647</td>\n",
       "      <td>0.453333</td>\n",
       "      <td>0.0</td>\n",
       "      <td>1.0</td>\n",
       "      <td>0.655429</td>\n",
       "      <td>0.487143</td>\n",
       "      <td>0.487759</td>\n",
       "      <td>Medium</td>\n",
       "    </tr>\n",
       "    <tr>\n",
       "      <th>1</th>\n",
       "      <td>Agonda Beach</td>\n",
       "      <td>Feb</td>\n",
       "      <td>2022.0</td>\n",
       "      <td>0.710692</td>\n",
       "      <td>0.475722</td>\n",
       "      <td>0.757079</td>\n",
       "      <td>0.000000</td>\n",
       "      <td>0.716884</td>\n",
       "      <td>0.276483</td>\n",
       "      <td>0.677198</td>\n",
       "      <td>0.636364</td>\n",
       "      <td>0.482353</td>\n",
       "      <td>0.264706</td>\n",
       "      <td>0.186667</td>\n",
       "      <td>0.0</td>\n",
       "      <td>0.0</td>\n",
       "      <td>0.251714</td>\n",
       "      <td>0.690000</td>\n",
       "      <td>0.180236</td>\n",
       "      <td>Low</td>\n",
       "    </tr>\n",
       "    <tr>\n",
       "      <th>2</th>\n",
       "      <td>Agonda Beach</td>\n",
       "      <td>Mar</td>\n",
       "      <td>2022.0</td>\n",
       "      <td>0.829490</td>\n",
       "      <td>0.752625</td>\n",
       "      <td>0.862891</td>\n",
       "      <td>0.001094</td>\n",
       "      <td>0.548413</td>\n",
       "      <td>0.217867</td>\n",
       "      <td>0.577610</td>\n",
       "      <td>0.363636</td>\n",
       "      <td>0.111765</td>\n",
       "      <td>1.000000</td>\n",
       "      <td>0.540000</td>\n",
       "      <td>1.0</td>\n",
       "      <td>0.0</td>\n",
       "      <td>0.273429</td>\n",
       "      <td>0.617143</td>\n",
       "      <td>0.449508</td>\n",
       "      <td>Medium</td>\n",
       "    </tr>\n",
       "    <tr>\n",
       "      <th>3</th>\n",
       "      <td>Agonda Beach</td>\n",
       "      <td>Apr</td>\n",
       "      <td>2022.0</td>\n",
       "      <td>1.000000</td>\n",
       "      <td>0.843176</td>\n",
       "      <td>0.915052</td>\n",
       "      <td>0.016852</td>\n",
       "      <td>0.856843</td>\n",
       "      <td>0.235876</td>\n",
       "      <td>0.535027</td>\n",
       "      <td>0.272727</td>\n",
       "      <td>0.564706</td>\n",
       "      <td>0.470588</td>\n",
       "      <td>0.740000</td>\n",
       "      <td>1.0</td>\n",
       "      <td>0.0</td>\n",
       "      <td>0.552286</td>\n",
       "      <td>0.401429</td>\n",
       "      <td>0.450032</td>\n",
       "      <td>Medium</td>\n",
       "    </tr>\n",
       "    <tr>\n",
       "      <th>4</th>\n",
       "      <td>Agonda Beach</td>\n",
       "      <td>May</td>\n",
       "      <td>2022.0</td>\n",
       "      <td>0.946191</td>\n",
       "      <td>0.887139</td>\n",
       "      <td>0.837556</td>\n",
       "      <td>0.086588</td>\n",
       "      <td>0.928721</td>\n",
       "      <td>0.442444</td>\n",
       "      <td>0.393544</td>\n",
       "      <td>0.272727</td>\n",
       "      <td>0.152941</td>\n",
       "      <td>0.448529</td>\n",
       "      <td>0.453333</td>\n",
       "      <td>0.0</td>\n",
       "      <td>0.0</td>\n",
       "      <td>0.197143</td>\n",
       "      <td>0.297143</td>\n",
       "      <td>0.117880</td>\n",
       "      <td>Low</td>\n",
       "    </tr>\n",
       "  </tbody>\n",
       "</table>\n",
       "</div>"
      ],
      "text/plain": [
       "     Beach Name Month    Year      tavg      tmin      tmax      prcp  \\\n",
       "0  Agonda Beach   Jan  2022.0  0.651992  0.485564  0.722802  0.000060   \n",
       "1  Agonda Beach   Feb  2022.0  0.710692  0.475722  0.757079  0.000000   \n",
       "2  Agonda Beach   Mar  2022.0  0.829490  0.752625  0.862891  0.001094   \n",
       "3  Agonda Beach   Apr  2022.0  1.000000  0.843176  0.915052  0.016852   \n",
       "4  Agonda Beach   May  2022.0  0.946191  0.887139  0.837556  0.086588   \n",
       "\n",
       "       wdir      wspd      pres  Footfall  Wave Height (m)  \\\n",
       "0  0.521533  0.295551  0.771291  0.727273         0.076471   \n",
       "1  0.716884  0.276483  0.677198  0.636364         0.482353   \n",
       "2  0.548413  0.217867  0.577610  0.363636         0.111765   \n",
       "3  0.856843  0.235876  0.535027  0.272727         0.564706   \n",
       "4  0.928721  0.442444  0.393544  0.272727         0.152941   \n",
       "\n",
       "   Ocean Currents (m/s)  Swell Height (m)  Storm Surge  Tsunami Alerts  \\\n",
       "0              0.117647          0.453333          0.0             1.0   \n",
       "1              0.264706          0.186667          0.0             0.0   \n",
       "2              1.000000          0.540000          1.0             0.0   \n",
       "3              0.470588          0.740000          1.0             0.0   \n",
       "4              0.448529          0.453333          0.0             0.0   \n",
       "\n",
       "   Humidity (%)  UV Index  Risk Score    Risk  \n",
       "0      0.655429  0.487143    0.487759  Medium  \n",
       "1      0.251714  0.690000    0.180236     Low  \n",
       "2      0.273429  0.617143    0.449508  Medium  \n",
       "3      0.552286  0.401429    0.450032  Medium  \n",
       "4      0.197143  0.297143    0.117880     Low  "
      ]
     },
     "execution_count": 15,
     "metadata": {},
     "output_type": "execute_result"
    }
   ],
   "source": [
    "df.head()"
   ]
  },
  {
   "cell_type": "code",
   "execution_count": 16,
   "id": "53668d1c",
   "metadata": {},
   "outputs": [],
   "source": [
    "from sklearn.model_selection import train_test_split, cross_val_score\n",
    "from sklearn.ensemble import AdaBoostClassifier\n",
    "from sklearn.metrics import classification_report, accuracy_score, confusion_matrix\n",
    "from sklearn.utils import shuffle"
   ]
  },
  {
   "cell_type": "code",
   "execution_count": 17,
   "id": "46979526",
   "metadata": {},
   "outputs": [],
   "source": [
    "for i in range(0,100):\n",
    "# Shuffle the dataset\n",
    "    df = shuffle(df, random_state=42)\n",
    "    i += 1"
   ]
  },
  {
   "cell_type": "code",
   "execution_count": 18,
   "id": "81ce310c",
   "metadata": {},
   "outputs": [],
   "source": [
    "#Feature Engineering\n",
    "X = df.drop(['Risk', 'Risk Score', 'Beach Name', 'Month', 'Year', 'tavg', 'tmin', 'wdir'], axis=1)  # Drop unnecessary columns\n",
    "y = df['Risk']\n"
   ]
  },
  {
   "cell_type": "code",
   "execution_count": 19,
   "id": "553ab2fc",
   "metadata": {},
   "outputs": [],
   "source": [
    "# Split the data into training and testing sets\n",
    "X_train, X_test, y_train, y_test = train_test_split(X, y, test_size=0.2, random_state=42, stratify=y)"
   ]
  },
  {
   "cell_type": "code",
   "execution_count": 20,
   "id": "2f938651",
   "metadata": {},
   "outputs": [
    {
     "data": {
      "text/html": [
       "<style>#sk-container-id-1 {color: black;}#sk-container-id-1 pre{padding: 0;}#sk-container-id-1 div.sk-toggleable {background-color: white;}#sk-container-id-1 label.sk-toggleable__label {cursor: pointer;display: block;width: 100%;margin-bottom: 0;padding: 0.3em;box-sizing: border-box;text-align: center;}#sk-container-id-1 label.sk-toggleable__label-arrow:before {content: \"▸\";float: left;margin-right: 0.25em;color: #696969;}#sk-container-id-1 label.sk-toggleable__label-arrow:hover:before {color: black;}#sk-container-id-1 div.sk-estimator:hover label.sk-toggleable__label-arrow:before {color: black;}#sk-container-id-1 div.sk-toggleable__content {max-height: 0;max-width: 0;overflow: hidden;text-align: left;background-color: #f0f8ff;}#sk-container-id-1 div.sk-toggleable__content pre {margin: 0.2em;color: black;border-radius: 0.25em;background-color: #f0f8ff;}#sk-container-id-1 input.sk-toggleable__control:checked~div.sk-toggleable__content {max-height: 200px;max-width: 100%;overflow: auto;}#sk-container-id-1 input.sk-toggleable__control:checked~label.sk-toggleable__label-arrow:before {content: \"▾\";}#sk-container-id-1 div.sk-estimator input.sk-toggleable__control:checked~label.sk-toggleable__label {background-color: #d4ebff;}#sk-container-id-1 div.sk-label input.sk-toggleable__control:checked~label.sk-toggleable__label {background-color: #d4ebff;}#sk-container-id-1 input.sk-hidden--visually {border: 0;clip: rect(1px 1px 1px 1px);clip: rect(1px, 1px, 1px, 1px);height: 1px;margin: -1px;overflow: hidden;padding: 0;position: absolute;width: 1px;}#sk-container-id-1 div.sk-estimator {font-family: monospace;background-color: #f0f8ff;border: 1px dotted black;border-radius: 0.25em;box-sizing: border-box;margin-bottom: 0.5em;}#sk-container-id-1 div.sk-estimator:hover {background-color: #d4ebff;}#sk-container-id-1 div.sk-parallel-item::after {content: \"\";width: 100%;border-bottom: 1px solid gray;flex-grow: 1;}#sk-container-id-1 div.sk-label:hover label.sk-toggleable__label {background-color: #d4ebff;}#sk-container-id-1 div.sk-serial::before {content: \"\";position: absolute;border-left: 1px solid gray;box-sizing: border-box;top: 0;bottom: 0;left: 50%;z-index: 0;}#sk-container-id-1 div.sk-serial {display: flex;flex-direction: column;align-items: center;background-color: white;padding-right: 0.2em;padding-left: 0.2em;position: relative;}#sk-container-id-1 div.sk-item {position: relative;z-index: 1;}#sk-container-id-1 div.sk-parallel {display: flex;align-items: stretch;justify-content: center;background-color: white;position: relative;}#sk-container-id-1 div.sk-item::before, #sk-container-id-1 div.sk-parallel-item::before {content: \"\";position: absolute;border-left: 1px solid gray;box-sizing: border-box;top: 0;bottom: 0;left: 50%;z-index: -1;}#sk-container-id-1 div.sk-parallel-item {display: flex;flex-direction: column;z-index: 1;position: relative;background-color: white;}#sk-container-id-1 div.sk-parallel-item:first-child::after {align-self: flex-end;width: 50%;}#sk-container-id-1 div.sk-parallel-item:last-child::after {align-self: flex-start;width: 50%;}#sk-container-id-1 div.sk-parallel-item:only-child::after {width: 0;}#sk-container-id-1 div.sk-dashed-wrapped {border: 1px dashed gray;margin: 0 0.4em 0.5em 0.4em;box-sizing: border-box;padding-bottom: 0.4em;background-color: white;}#sk-container-id-1 div.sk-label label {font-family: monospace;font-weight: bold;display: inline-block;line-height: 1.2em;}#sk-container-id-1 div.sk-label-container {text-align: center;}#sk-container-id-1 div.sk-container {/* jupyter's `normalize.less` sets `[hidden] { display: none; }` but bootstrap.min.css set `[hidden] { display: none !important; }` so we also need the `!important` here to be able to override the default hidden behavior on the sphinx rendered scikit-learn.org. See: https://github.com/scikit-learn/scikit-learn/issues/21755 */display: inline-block !important;position: relative;}#sk-container-id-1 div.sk-text-repr-fallback {display: none;}</style><div id=\"sk-container-id-1\" class=\"sk-top-container\"><div class=\"sk-text-repr-fallback\"><pre>AdaBoostClassifier(n_estimators=100, random_state=42)</pre><b>In a Jupyter environment, please rerun this cell to show the HTML representation or trust the notebook. <br />On GitHub, the HTML representation is unable to render, please try loading this page with nbviewer.org.</b></div><div class=\"sk-container\" hidden><div class=\"sk-item\"><div class=\"sk-estimator sk-toggleable\"><input class=\"sk-toggleable__control sk-hidden--visually\" id=\"sk-estimator-id-1\" type=\"checkbox\" checked><label for=\"sk-estimator-id-1\" class=\"sk-toggleable__label sk-toggleable__label-arrow\">AdaBoostClassifier</label><div class=\"sk-toggleable__content\"><pre>AdaBoostClassifier(n_estimators=100, random_state=42)</pre></div></div></div></div></div>"
      ],
      "text/plain": [
       "AdaBoostClassifier(n_estimators=100, random_state=42)"
      ]
     },
     "execution_count": 20,
     "metadata": {},
     "output_type": "execute_result"
    }
   ],
   "source": [
    "# Initialize the AdaBoost Classifier\n",
    "clf = AdaBoostClassifier(n_estimators=100, random_state=42)\n",
    "\n",
    "# Train the model\n",
    "clf.fit(X_train, y_train)"
   ]
  },
  {
   "cell_type": "code",
   "execution_count": 21,
   "id": "771541af",
   "metadata": {},
   "outputs": [],
   "source": [
    "# Make predictions on the test set\n",
    "y_pred = clf.predict(X_test)"
   ]
  },
  {
   "cell_type": "code",
   "execution_count": 22,
   "id": "fd38d61f",
   "metadata": {},
   "outputs": [
    {
     "name": "stdout",
     "output_type": "stream",
     "text": [
      "Accuracy Score: 0.9206349206349206\n",
      "Confusion Matrix:\n",
      " [[ 6  0  2]\n",
      " [ 0 41  0]\n",
      " [ 3  0 11]]\n"
     ]
    }
   ],
   "source": [
    "# Evaluation metrics\n",
    "print(\"Accuracy Score:\", accuracy_score(y_test, y_pred))\n",
    "print(\"Confusion Matrix:\\n\", confusion_matrix(y_test, y_pred))"
   ]
  },
  {
   "cell_type": "code",
   "execution_count": 23,
   "id": "b060787a",
   "metadata": {},
   "outputs": [
    {
     "name": "stdout",
     "output_type": "stream",
     "text": [
      "Cross-validation scores: [0.92063492 0.85714286 0.9516129  0.9516129  0.85483871]\n",
      "Mean CV score: 0.907168458781362\n"
     ]
    }
   ],
   "source": [
    "# Perform cross-validation\n",
    "cv_scores = cross_val_score(clf, X, y, cv=5)\n",
    "\n",
    "# Cross-validation results\n",
    "print(\"Cross-validation scores:\", cv_scores)\n",
    "print(\"Mean CV score:\", cv_scores.mean())"
   ]
  },
  {
   "cell_type": "code",
   "execution_count": null,
   "id": "60b2caf5",
   "metadata": {},
   "outputs": [],
   "source": []
  },
  {
   "cell_type": "code",
   "execution_count": null,
   "id": "5bbfd22c",
   "metadata": {},
   "outputs": [],
   "source": []
  },
  {
   "cell_type": "code",
   "execution_count": null,
   "id": "686712a8",
   "metadata": {},
   "outputs": [],
   "source": []
  },
  {
   "cell_type": "code",
   "execution_count": 24,
   "id": "55bdeb89",
   "metadata": {},
   "outputs": [
    {
     "name": "stdout",
     "output_type": "stream",
     "text": [
      "Enter value for MAX Temp. (Recommended 30.5): \n",
      "Enter value for Precipitation in mm (Recommended 2.1): \n",
      "Enter value for Wind Speed in m/s (Recommended 12.5): \n",
      "Enter value for Atm. Ppressure above Sea Level (Recommended 1010.2): \n",
      "Enter value for Footfall (Recommended 150): \n",
      "Enter value for Wave Height (m) (Recommended 1.2): \n",
      "Enter value for Ocean Currents (m/s) (Recommended 0.7): \n",
      "Enter value for Swell Height (m) (Recommended 0.9): \n",
      "Enter value for Storm Surge (Recommended 0.4): \n",
      "Enter value for Tsunami Alerts (Recommended 0): \n",
      "Enter value for Humidity (%) (Recommended 76.5): \n",
      "Enter value for UV Index (Recommended 8.1): \n",
      "\n",
      "Calculated Risk Score: 31.921000000000003\n",
      "\n",
      "Predicted Risk Category: Medium\n",
      "Classified Risk Category based on Risk Score: Medium\n"
     ]
    }
   ],
   "source": [
    "import numpy as np\n",
    "import pandas as pd\n",
    "\n",
    "# Function to get user input with a default value and recommendation\n",
    "def get_user_input(field_name, default_value):\n",
    "    user_input = input(f\"Enter value for {field_name} (Recommended {default_value}): \")\n",
    "    return float(user_input) if user_input else default_value\n",
    "\n",
    "# Function to calculate Risk Score\n",
    "def calculate_risk_score1(tmax, prcp, wspd, pres, footfall, wave_height, ocean_currents,\n",
    "                         swell_height, storm_surge, tsunami_alerts, humidity, uv_index):\n",
    "    score = (\n",
    "        tmax * 0.001 +\n",
    "        prcp * 0.019 +\n",
    "        wspd * 0.007 +\n",
    "        pres * 0.008 +\n",
    "        footfall * 0.15 + \n",
    "        wave_height * 0.08 +\n",
    "        ocean_currents * 0.06 +\n",
    "        swell_height * 0.05 +\n",
    "        storm_surge * 0.28 + \n",
    "        tsunami_alerts * 0.32 + \n",
    "        humidity * 0.01 +\n",
    "        uv_index * 0.015\n",
    "    )\n",
    "    return score\n",
    "\n",
    "# Function to classify Risk based on Risk Score\n",
    "def classify_risk(risk_score):\n",
    "    risk_category = pd.cut([risk_score], bins=[0, 0.27, 0.55, 1], labels=['Low', 'Medium', 'High'], include_lowest=True)\n",
    "    return risk_category[0]\n",
    "\n",
    "# Function to run the model with user inputs, heuristic function, and classification\n",
    "def run_model(clf):\n",
    "    # Ask for user inputs with realistic defaults\n",
    "    tmax = get_user_input('MAX Temp.', 30.5)\n",
    "    prcp = get_user_input('Precipitation in mm', 2.1)\n",
    "    wspd = get_user_input('Wind Speed in m/s', 12.5)\n",
    "    pres = get_user_input('Atm. Ppressure above Sea Level', 1010.2)\n",
    "    footfall = get_user_input('Footfall', 150)\n",
    "    wave_height = get_user_input('Wave Height (m)', 1.2)\n",
    "    ocean_currents = get_user_input('Ocean Currents (m/s)', 0.7)\n",
    "    swell_height = get_user_input('Swell Height (m)', 0.9)\n",
    "    storm_surge = get_user_input('Storm Surge', 0.4)\n",
    "    tsunami_alerts = get_user_input('Tsunami Alerts', 0)\n",
    "    humidity = get_user_input('Humidity (%)', 76.5)\n",
    "    uv_index = get_user_input('UV Index', 8.1)\n",
    "\n",
    "    # Calculate Risk Score using the Heuristic function\n",
    "    risk_score = calculate_risk_score1(\n",
    "        tmax, prcp, wspd, pres, footfall, wave_height, ocean_currents,\n",
    "        swell_height, storm_surge, tsunami_alerts, humidity, uv_index\n",
    "    )\n",
    "    print(f\"\\nCalculated Risk Score: {risk_score}\")\n",
    "\n",
    "    # Prepare the input data for the model\n",
    "    input_data = np.array([\n",
    "        tmax, prcp, wspd, pres, footfall, wave_height, ocean_currents,\n",
    "        swell_height, storm_surge, tsunami_alerts, humidity, uv_index]).reshape(1, -1)\n",
    "    \n",
    "    # Use the trained AdaBoost classifier model to predict the risk category\n",
    "    predicted_risk = clf.predict(input_data)\n",
    "\n",
    "    # Classify Risk based on the Risk Score\n",
    "    risk_category = classify_risk(risk_score/100)\n",
    "\n",
    "    # Print the results\n",
    "    print(f\"\\nPredicted Risk Category: {predicted_risk[0]}\")\n",
    "    print(f\"Classified Risk Category based on Risk Score: {risk_category}\")\n",
    "\n",
    "# Example usage assuming your AdaBoost classifier is already trained and available as `adaboost_model`\n",
    "# adaboost_model = AdaBoostClassifier().fit(X_train, y_train)\n",
    "\n",
    "# Call the function to run the model\n",
    "run_model(clf)\n"
   ]
  },
  {
   "cell_type": "code",
   "execution_count": null,
   "id": "81c4dddb",
   "metadata": {},
   "outputs": [],
   "source": []
  },
  {
   "cell_type": "code",
   "execution_count": null,
   "id": "2a69d80c",
   "metadata": {},
   "outputs": [],
   "source": []
  },
  {
   "cell_type": "code",
   "execution_count": null,
   "id": "16e3bb4b",
   "metadata": {},
   "outputs": [],
   "source": []
  },
  {
   "cell_type": "code",
   "execution_count": null,
   "id": "cbc10aab",
   "metadata": {},
   "outputs": [],
   "source": []
  },
  {
   "cell_type": "code",
   "execution_count": null,
   "id": "2a93f2d2",
   "metadata": {},
   "outputs": [],
   "source": []
  },
  {
   "cell_type": "code",
   "execution_count": null,
   "id": "2f2ed51c",
   "metadata": {},
   "outputs": [],
   "source": []
  },
  {
   "cell_type": "code",
   "execution_count": null,
   "id": "f98f850b",
   "metadata": {},
   "outputs": [],
   "source": []
  },
  {
   "cell_type": "code",
   "execution_count": null,
   "id": "1349c972",
   "metadata": {},
   "outputs": [],
   "source": []
  },
  {
   "cell_type": "code",
   "execution_count": null,
   "id": "9739f982",
   "metadata": {},
   "outputs": [],
   "source": []
  },
  {
   "cell_type": "code",
   "execution_count": null,
   "id": "a20478ab",
   "metadata": {},
   "outputs": [],
   "source": []
  },
  {
   "cell_type": "code",
   "execution_count": null,
   "id": "f29a02b1",
   "metadata": {},
   "outputs": [],
   "source": []
  },
  {
   "cell_type": "code",
   "execution_count": null,
   "id": "2fe81f54",
   "metadata": {},
   "outputs": [],
   "source": []
  }
 ],
 "metadata": {
  "kernelspec": {
   "display_name": "Python 3 (ipykernel)",
   "language": "python",
   "name": "python3"
  },
  "language_info": {
   "codemirror_mode": {
    "name": "ipython",
    "version": 3
   },
   "file_extension": ".py",
   "mimetype": "text/x-python",
   "name": "python",
   "nbconvert_exporter": "python",
   "pygments_lexer": "ipython3",
   "version": "3.11.5"
  }
 },
 "nbformat": 4,
 "nbformat_minor": 5
}
